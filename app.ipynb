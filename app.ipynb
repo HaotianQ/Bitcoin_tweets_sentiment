{
 "cells": [
  {
   "cell_type": "code",
   "execution_count": 3,
   "id": "d1ae71da",
   "metadata": {},
   "outputs": [
    {
     "name": "stdout",
     "output_type": "stream",
     "text": [
      " * Serving Flask app \"__main__\" (lazy loading)\n",
      " * Environment: production\n",
      "   WARNING: This is a development server. Do not use it in a production deployment.\n",
      "   Use a production WSGI server instead.\n",
      " * Debug mode: off\n"
     ]
    },
    {
     "name": "stderr",
     "output_type": "stream",
     "text": [
      " * Running on http://127.0.0.1:5000/ (Press CTRL+C to quit)\n",
      "127.0.0.1 - - [09/Dec/2021 22:47:25] \"\u001b[37mGET / HTTP/1.1\u001b[0m\" 200 -\n",
      "127.0.0.1 - - [09/Dec/2021 22:47:25] \"\u001b[33mGET /favicon.ico HTTP/1.1\u001b[0m\" 404 -\n",
      "127.0.0.1 - - [09/Dec/2021 22:47:35] \"\u001b[37mPOST / HTTP/1.1\u001b[0m\" 200 -\n"
     ]
    },
    {
     "name": "stdout",
     "output_type": "stream",
     "text": [
      "['negative']\n"
     ]
    }
   ],
   "source": [
    "from flask import Flask, render_template, request\n",
    "import pickle\n",
    "import numpy as np\n",
    "\n",
    "# We need to initialise the Flask object to run the flask app \n",
    "# By assigning parameters as static folder name,templates folder name\n",
    "app = Flask(__name__, static_folder='static', template_folder='templates')\n",
    "\n",
    "# We need to load the pickled model file AND the vectorizer to transform the text \n",
    "# to make a prediction on an unseen data point - note that the script assumes the pickled files are in\n",
    "# the samee folder\n",
    "vectorizer = pickle.load(open('best_vectorizer.pkl','rb+'))\n",
    "model = pickle.load(open('best_model.pkl','rb+'))\n",
    "\n",
    "@app.route('/',methods=['POST','GET'])\n",
    "def main():\n",
    "\n",
    "  # on GET we display the page  \n",
    "  if request.method=='GET':\n",
    "    return render_template('index.html')\n",
    "  # on POST we make a prediction over the input text supplied by the user\n",
    "  if request.method=='POST':\n",
    "    # debug\n",
    "    # print(request.form.keys())\n",
    "    input_sentence = request.form['sl']\n",
    "    # make sure we lower case it\n",
    "    final_sentence = input_sentence.lower()\n",
    "    # debug\n",
    "    # print(final_sentence)\n",
    "    vectorized_sentence = vectorizer.transform([final_sentence])\n",
    "    labels = model.predict(vectorized_sentence)\n",
    "    #  debug\n",
    "    print(labels)\n",
    "    # Returning the response to ajax\n",
    "    return \"Predicted label is {}\".format(labels[0])\n",
    "    \n",
    "if __name__=='__main__':\n",
    "  # Run the Flask app to run the server\n",
    "  app.run(debug=False)"
   ]
  },
  {
   "cell_type": "code",
   "execution_count": null,
   "id": "58ba5120",
   "metadata": {},
   "outputs": [],
   "source": []
  },
  {
   "cell_type": "code",
   "execution_count": null,
   "id": "9eb93f49",
   "metadata": {},
   "outputs": [],
   "source": []
  },
  {
   "cell_type": "code",
   "execution_count": null,
   "id": "35c17ef8",
   "metadata": {},
   "outputs": [],
   "source": []
  },
  {
   "cell_type": "code",
   "execution_count": null,
   "id": "edf9cc04",
   "metadata": {},
   "outputs": [],
   "source": []
  },
  {
   "cell_type": "code",
   "execution_count": null,
   "id": "cb85f9f2",
   "metadata": {},
   "outputs": [],
   "source": []
  },
  {
   "cell_type": "code",
   "execution_count": null,
   "id": "7bc620c9",
   "metadata": {},
   "outputs": [],
   "source": []
  },
  {
   "cell_type": "code",
   "execution_count": null,
   "id": "ac27a013",
   "metadata": {},
   "outputs": [],
   "source": []
  }
 ],
 "metadata": {
  "kernelspec": {
   "display_name": "Python 3",
   "language": "python",
   "name": "python3"
  },
  "language_info": {
   "codemirror_mode": {
    "name": "ipython",
    "version": 3
   },
   "file_extension": ".py",
   "mimetype": "text/x-python",
   "name": "python",
   "nbconvert_exporter": "python",
   "pygments_lexer": "ipython3",
   "version": "3.8.8"
  }
 },
 "nbformat": 4,
 "nbformat_minor": 5
}
